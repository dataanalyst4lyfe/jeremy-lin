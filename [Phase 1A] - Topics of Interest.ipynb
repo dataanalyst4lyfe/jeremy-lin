{
 "cells": [
  {
   "cell_type": "markdown",
   "metadata": {},
   "source": [
    "# Phase 1: Topics of Interest Generation"
   ]
  },
  {
   "cell_type": "markdown",
   "metadata": {},
   "source": [
    "#### Imports"
   ]
  },
  {
   "cell_type": "code",
   "execution_count": 106,
   "metadata": {
    "collapsed": true
   },
   "outputs": [],
   "source": [
    "from collections import defaultdict\n",
    "from math import log\n",
    "\n",
    "import numpy as np\n",
    "import datetime\n",
    "import random\n"
   ]
  },
  {
   "cell_type": "code",
   "execution_count": 107,
   "metadata": {
    "collapsed": true
   },
   "outputs": [],
   "source": [
    "## Force the pseudo random generators initial state for reproductable resutls\n",
    "seed = 5\n",
    "random.seed(seed)\n",
    "np.random.seed(seed)"
   ]
  },
  {
   "cell_type": "markdown",
   "metadata": {},
   "source": [
    "#### Sample data\n",
    "\n",
    "This sample data is extracted from the AnalyticsEvent model. for this use case the following fields are needed:\n",
    "* userid - The user this record refers to \n",
    "* context.url - The url visited by the user\n",
    "* context.keywords - The keywords assigned to the url(/page)\n",
    "* events.eventDate - The event date and time"
   ]
  },
  {
   "cell_type": "code",
   "execution_count": 108,
   "metadata": {
    "collapsed": true
   },
   "outputs": [],
   "source": [
    "# This are the all 13 pages that our target website has. Also known as the corpus\n",
    "#\n",
    "website_pages = [\n",
    "    { \"url\": \"/page1\", \"keywords\": ['liferay','bloated','literay','plugin system','features'] },\n",
    "    { \"url\": \"/page2\", \"keywords\": ['liferay','china','dalian'] },\n",
    "    { \"url\": \"/page3\", \"keywords\": ['dalian','liferay','pictures'] },\n",
    "    { \"url\": \"/page4\", \"keywords\": ['china','job fair','liferay dalian'] },\n",
    "    { \"url\": \"/page5\", \"keywords\": ['symposium','liferay','mobile','mobile strategies'] },\n",
    "    { \"url\": \"/page6\", \"keywords\": ['dalian'] },\n",
    "    { \"url\": \"/page7\", \"keywords\": ['dxp', 'pokemon go', 'inflation'] },\n",
    "    { \"url\": \"/page8\", \"keywords\": ['dxp', '7.2', 'alpha'] },\n",
    "    { \"url\": \"/page9\", \"keywords\": ['gratis', 'churning'] },\n",
    "    { \"url\": \"/page10\", \"keywords\": ['graveyard', '7.2', 'DXP'] },\n",
    "    { \"url\": \"/page11\", \"keywords\": ['gotcha', 'encryption'] },\n",
    "    { \"url\": \"/page12\", \"keywords\": ['globalization', 'economy'] },\n",
    "    { \"url\": \"/page13\", \"keywords\": ['dalian', 'christmas'] }\n",
    "]"
   ]
  },
  {
   "cell_type": "code",
   "execution_count": 109,
   "metadata": {
    "collapsed": true
   },
   "outputs": [],
   "source": [
    "def random_date(start, end):\n",
    "    \"\"\"\n",
    "    Generate a random datetime between `start` and `end`\n",
    "    courtesy of: https://stackoverflow.com/a/8170651/8356352\n",
    "    \"\"\"\n",
    "    return start + datetime.timedelta(\n",
    "        # Get a random amount of seconds between `start` and `end`\n",
    "        seconds=random.randint(0, int((end - start).total_seconds())),\n",
    "    )\n",
    "\n",
    "def generate_page_visits(user, number_pages, all_website_pages, start_date, end_date, with_replacement=True):\n",
    "    \"\"\"\n",
    "    Generate a list of analytics events for a given user picking from a set of pages and distribute them over\n",
    "    a span of time. The generated list can contains duplicates or not according to the with_replacement flag\n",
    "    \n",
    "    user: The userid to generate the page views for\n",
    "    number_pages: number of page visits (or analytics events) to generate\n",
    "    all_website_pages: the list of all pages to pick from. Also known as the corpus\n",
    "    start_date: the start date\n",
    "    end_date: the end date\n",
    "    with_replacement: set to True to generate list with duplicates False otherwise. Data flowing into the \n",
    "        analytics events table contains duplicates, a user can visit a page multiple times\n",
    "    \"\"\"\n",
    "    page_visits = []\n",
    "    \n",
    "    page_views = np.random.choice(all_website_pages, number_pages, replace=with_replacement)\n",
    "    \n",
    "    for page in page_views:\n",
    "        event_date = random_date(start_date, end_date)\n",
    "        page_visits += [{\"userid\": user, \"url\": page['url'], \"keywords\": page['keywords'], \"eventDate\": event_date}]\n",
    "    \n",
    "    return sorted(page_visits, key=lambda x: x['eventDate'])\n",
    "\n",
    "def filter_unique_page_visits(page_view_stream, include_user_filter=False):\n",
    "    \"\"\"\n",
    "    Helper method to filter a stream of page views for duplicates.\n",
    "    \n",
    "    page_view_stream: a chunk of analytics event data. Can be a single user page visits up until the whole table\n",
    "    unclude_user_filter: flag to indicate if we should filter per page 'url' or 'userid'+'url' combination\n",
    "    \"\"\"\n",
    "    unique_views = []\n",
    "    \n",
    "    if include_user_filter:\n",
    "        unique_views = list({p['userid']+p['url']:p for p in page_view_stream}.values())\n",
    "    else:\n",
    "        unique_views = list({p['url']:p for p in page_view_stream}.values())\n",
    "    \n",
    "    return unique_views\n",
    "\n",
    "def select_field(page_view_stream, field):\n",
    "    \"\"\"\n",
    "    Helper function that works like a select statement. Used to extract from the analytics events dictionary to\n",
    "    the format used by the algorithm\n",
    "    \n",
    "    page_view_stream: a chunk of analytics events data.\n",
    "    field: the field to select. (ie. 'keywords')\n",
    "    \"\"\"\n",
    "    return [x[field] for x in page_view_stream]\n",
    "\n",
    "def get_user_activity(analytics_events, userid):\n",
    "    \"\"\"\n",
    "    Helper function to extract from the analytics event format to the one used by the algorithm.\n",
    "    \"\"\"\n",
    "    temp = filter(lambda p: p['userid']==userid, analytics_events)\n",
    "    \n",
    "    return {userid: select_field(temp, 'keywords')}"
   ]
  },
  {
   "cell_type": "markdown",
   "metadata": {},
   "source": [
    "### Back to the original notebook - The Algorithm\n",
    "\n",
    "The only change in this funciton is the addition of the debug flag to make it less verbose"
   ]
  },
  {
   "cell_type": "code",
   "execution_count": 110,
   "metadata": {
    "collapsed": true
   },
   "outputs": [],
   "source": [
    "def calculate_inverse_document_frequency(entire_document_list, \\\n",
    "                                         individual_document_list, \\\n",
    "                                         entire_document_list_multiplier=1.0, \\\n",
    "                                         individual_document_list_multiplier=2.0, \\\n",
    "                                         debug=False):\n",
    "    \"\"\"\n",
    "    Input:\n",
    "        entire_document_list \n",
    "            List of Document's Keywords: [[keyword1, keyword2, ...], [keyword1, keyword2, keyword3], ...]\n",
    "            This is for all the URLs\n",
    "        individual_document_list\n",
    "            This is just the documents keywords for the individual user. This should be a subset of the entire_document_list\n",
    "        \n",
    "    Output:\n",
    "        Inverse Document Frequency Dict of each word: { (keyword1 : 0.0000243), (keyword2 : 0.003134), ... }\n",
    "        Note that this will be weighted accordingly\n",
    "    \"\"\"\n",
    "    \n",
    "    label_document_count = defaultdict(float)\n",
    "    label_document_idf = dict()\n",
    "    document_count = (len(entire_document_list) * entire_document_list_multiplier) \\\n",
    "                     + (len(individual_document_list) * individual_document_list_multiplier)\n",
    "    \n",
    "    # Iterate through each word in each document, and get the # of times the word occurs in the list.\n",
    "    # TODO: May need to lump together stemmed/lemmatized versions of the terms.\n",
    "    \n",
    "    for document_labels_list in entire_document_list:\n",
    "        for label in set(document_labels_list):\n",
    "            \n",
    "            label_lower_case = label.lower()\n",
    "            label_document_count[label_lower_case] += 1 * entire_document_list_multiplier\n",
    "            \n",
    "            # Debugging\n",
    "            if debug:\n",
    "                print(\"Updating: %s => %d\" % (label_lower_case, label_document_count[label_lower_case]))\n",
    "    \n",
    "    if debug:\n",
    "        print(\"\\n\")\n",
    "    \n",
    "    # Now to account for the individual's pages viewed\n",
    "    for document_labels_list in individual_document_list:\n",
    "        for label in set(document_labels_list):\n",
    "            \n",
    "            label_lower_case = label.lower()\n",
    "            label_document_count[label_lower_case] += 1 * individual_document_list_multiplier\n",
    "            \n",
    "            # Debugging\n",
    "            if debug:\n",
    "                print(\"Updating: %s => %d\" % (label_lower_case, label_document_count[label_lower_case]))\n",
    "    \n",
    "    # Convert to Inverse-Log-Scores\n",
    "    if debug:\n",
    "        print(\"Calculating Inverse Log Scores\")\n",
    "    for label, count in label_document_count.items():\n",
    "        inverse_log_score = log(document_count / count)\n",
    "        if debug:\n",
    "            print(\"%s : %f\" % (label, inverse_log_score))\n",
    "        label_document_idf[label] = inverse_log_score\n",
    "\n",
    "    return label_document_idf"
   ]
  },
  {
   "cell_type": "markdown",
   "metadata": {},
   "source": [
    "The core of the algorithm is converted to a function `compute_score`, to make it reusable. An additional `display_items_cout` flag is used to limit the number of keywords per user."
   ]
  },
  {
   "cell_type": "code",
   "execution_count": 111,
   "metadata": {
    "scrolled": false
   },
   "outputs": [],
   "source": [
    "def compute_score(user_page_views, corpus, display_items_count=None):\n",
    "    user_to_individual_labels_score = dict()\n",
    "\n",
    "    # Calculate TD-IDF for every term\n",
    "    for user, document_label_list in user_page_views.items():\n",
    "\n",
    "        # We're simplifying what we nee\n",
    "        label_to_count = defaultdict(int)\n",
    "        label_to_score = dict()\n",
    "\n",
    "        # We currently weigh the individual's history, twice as much as the overall page counts.\n",
    "        idf_map = calculate_inverse_document_frequency(corpus, user_page_views[user], 1.0, 2.0, debug=False)\n",
    "\n",
    "        # Calculate document label counts for each label\n",
    "        for label_list in document_label_list:\n",
    "            for label in label_list:\n",
    "                label = label.lower()\n",
    "                label_to_count[label] += 1\n",
    "\n",
    "        # Calcualte scores with summed labels    \n",
    "        for label, count in label_to_count.items():\n",
    "            score = count * idf_map[label]\n",
    "            label_to_score[label] = score\n",
    "\n",
    "        user_to_individual_labels_score[user] = label_to_score\n",
    "\n",
    "\n",
    "    # Print results\n",
    "    print(\"Final Results\")\n",
    "    print(\"-------------\")\n",
    "    \n",
    "    for user, label_to_score in sorted(user_to_individual_labels_score.items()):\n",
    "\n",
    "        print(\"\\n%s\" % user)\n",
    "        sorted_labels = [label for label in sorted(label_to_score, key=label_to_score.get, reverse=True)]\n",
    "\n",
    "        if (display_items_count != None):\n",
    "            sorted_labels = sorted_labels[0:display_items_count]\n",
    "\n",
    "        scores = []\n",
    "        for label in sorted_labels:\n",
    "            scores += [label_to_score[label]]\n",
    "            print('\\t{:20} : {:>5.4f}'.format(label, label_to_score[label]))\n",
    "        \n",
    "        print (\"\\n\\tDistinct scores for user {}: {} out of {} keywords\".format(user, \\\n",
    "                                                                             len(set(scores)), \\\n",
    "                                                                             len(sorted_labels)))"
   ]
  },
  {
   "cell_type": "markdown",
   "metadata": {},
   "source": [
    "## Algorithm on Sample Data"
   ]
  },
  {
   "cell_type": "code",
   "execution_count": 112,
   "metadata": {
    "collapsed": true
   },
   "outputs": [],
   "source": [
    "# Description: Obtain list of entries.\n",
    "# Input: SQL Server\n",
    "# Output: [[user, url, labels, date, ...]]\n",
    "# entry_list = get_entry_list()\n",
    "\n",
    "# Description: Convert list of entries to map of user to labels\n",
    "# Need to consider: Do I only do this for unique pages? Do I update the count per visit?\n",
    "# Current Implementation: Just unique pages\n",
    "# Input: [[user, url, labels, date, ...]]\n",
    "# Output: { {user: [[label1, label2, label3], [label1, label2, label3], ...]}, {user2: [...]} }\n",
    "# user_to_document_label_map = get_user_to_document_label_list()\n",
    "\n",
    "# For now, we're using hard-coded values\n",
    "\n",
    "# These are label for all the webpages (under the same domain)\n",
    "all_webpage_labels_list = [['liferay','bloated','literay','plugin system','features'], \\\n",
    "                           ['liferay','china','dalian'], \\\n",
    "                           ['dalian','liferay','pictures'], \\\n",
    "                           ['china','job fair','liferay dalian'], \\\n",
    "                           ['symposium','liferay','mobile','mobile strategies'], \\\n",
    "                           ['dalian'], \\\n",
    "                           ['dxp', 'pokemon go', 'inflation'], \\\n",
    "                           ['dxp', '7.2', 'alpha'], \\\n",
    "                           ['gratis', 'churning'], \\\n",
    "                           ['graveyard', '7.2', 'DXP'],\n",
    "                           ['gotcha', 'encryption']]\n",
    "\n",
    "# This is each individual's labels\n",
    "adam_webpage_label_list = [['dalian','liferay','pictures'], \\\n",
    "                           ['symposium','liferay','mobile','mobile strategies'], \\\n",
    "                           ['globalization', 'economy']]\n",
    "\n",
    "betty_webpage_label_list = [['dalian'], \\\n",
    "                            ['dalian', 'christmas'], \\\n",
    "                            ['liferay','bloated','literay','plugin system','features'], \\\n",
    "                            ['liferay','china','dalian'], \\\n",
    "                            ['dalian','liferay','pictures']]\n",
    "\n",
    "user_to_document_label_list = dict()\n",
    "user_to_document_label_list['Adam'] = adam_webpage_label_list\n",
    "user_to_document_label_list['Betty'] = betty_webpage_label_list"
   ]
  },
  {
   "cell_type": "markdown",
   "metadata": {},
   "source": [
    "### Test1: baseline\n",
    "Verify the algorithm has the same behavior as the original one.\n",
    "\n",
    "**NOTE:** This a verification task. further tests will be executed on the data generated in the format of the analytics events"
   ]
  },
  {
   "cell_type": "code",
   "execution_count": 113,
   "metadata": {},
   "outputs": [
    {
     "name": "stdout",
     "output_type": "stream",
     "text": [
      "Final Results\n",
      "-------------\n",
      "\n",
      "Adam\n",
      "\tglobalization        : 2.1401\n",
      "\teconomy              : 2.1401\n",
      "\tpictures             : 1.7346\n",
      "\tsymposium            : 1.7346\n",
      "\tmobile               : 1.7346\n",
      "\tmobile strategies    : 1.7346\n",
      "\tliferay              : 1.5075\n",
      "\tdalian               : 1.2238\n",
      "\n",
      "\tDistinct scores for user Adam: 4 out of 8 keywords\n",
      "\n",
      "Betty\n",
      "\tdalian               : 2.5865\n",
      "\tchristmas            : 2.3514\n",
      "\tliferay              : 2.2258\n",
      "\tbloated              : 1.9459\n",
      "\tliteray              : 1.9459\n",
      "\tplugin system        : 1.9459\n",
      "\tfeatures             : 1.9459\n",
      "\tpictures             : 1.9459\n",
      "\tchina                : 1.6582\n",
      "\n",
      "\tDistinct scores for user Betty: 5 out of 9 keywords\n"
     ]
    }
   ],
   "source": [
    "compute_score(user_page_views=user_to_document_label_list, corpus=all_webpage_labels_list)"
   ]
  },
  {
   "cell_type": "markdown",
   "metadata": {},
   "source": [
    "Expected output: The same as before the modifications described above."
   ]
  },
  {
   "cell_type": "markdown",
   "metadata": {},
   "source": [
    "### Prepare data\n",
    "We are going to generate some data in a format compatible with the data available in the AnalyiticsEvent datasource. That datasource is fed with the `analytics-js` and `analytics-java` clients.\n",
    "\n",
    "Generated data is the stream of page visits for a set of `users` in the data range defined by `sd` (start date), `ed` (end date). Each users will have a page visits list randomly picked up from 1 to 15 page views."
   ]
  },
  {
   "cell_type": "code",
   "execution_count": 114,
   "metadata": {},
   "outputs": [
    {
     "name": "stdout",
     "output_type": "stream",
     "text": [
      "Generated 32 analytics events\n"
     ]
    }
   ],
   "source": [
    "users = ['alice', 'bob', 'adam','betty','carol']\n",
    "\n",
    "sd = datetime.datetime(2017, 12, 1, 0, 0, 0)\n",
    "ed = datetime.datetime(2017, 12, 31, 23, 59, 0)\n",
    "\n",
    "analyticsEvent = []\n",
    "\n",
    "for user in users:\n",
    "    number_pages = np.random.randint(1, 15)\n",
    "\n",
    "    analyticsEvent += generate_page_visits(\n",
    "        user=user, \n",
    "        all_website_pages=website_pages, \n",
    "        number_pages=number_pages, \n",
    "        start_date=sd, \n",
    "        end_date=ed)\n",
    "\n",
    "print (\"Generated {} analytics events\".format(len(analyticsEvent)))"
   ]
  },
  {
   "cell_type": "markdown",
   "metadata": {},
   "source": [
    "#### Explore the generated data"
   ]
  },
  {
   "cell_type": "code",
   "execution_count": 142,
   "metadata": {},
   "outputs": [
    {
     "name": "stdout",
     "output_type": "stream",
     "text": [
      "User alice      page views:     4 total,     3 distinct\n",
      "\n",
      "\t /page7                ['dxp', 'pokemon go', 'inflation']\n",
      "\t /page1                ['liferay', 'bloated', 'literay', 'plugin system', 'features']\n",
      "\t /page10               ['graveyard', '7.2', 'DXP']\n",
      "\t /page7                ['dxp', 'pokemon go', 'inflation']\n",
      "\n",
      "\n",
      "User bob        page views:     9 total,     7 distinct\n",
      "\n",
      "\t /page5                ['symposium', 'liferay', 'mobile', 'mobile strategies']\n",
      "\t /page1                ['liferay', 'bloated', 'literay', 'plugin system', 'features']\n",
      "\t /page8                ['dxp', '7.2', 'alpha']\n",
      "\t /page1                ['liferay', 'bloated', 'literay', 'plugin system', 'features']\n",
      "\t /page6                ['dalian']\n",
      "\t /page12               ['globalization', 'economy']\n",
      "\t /page13               ['dalian', 'christmas']\n",
      "\t /page8                ['dxp', '7.2', 'alpha']\n",
      "\t /page2                ['liferay', 'china', 'dalian']\n",
      "\n",
      "\n",
      "User adam       page views:     8 total,     7 distinct\n",
      "\n",
      "\t /page5                ['symposium', 'liferay', 'mobile', 'mobile strategies']\n",
      "\t /page13               ['dalian', 'christmas']\n",
      "\t /page7                ['dxp', 'pokemon go', 'inflation']\n",
      "\t /page2                ['liferay', 'china', 'dalian']\n",
      "\t /page1                ['liferay', 'bloated', 'literay', 'plugin system', 'features']\n",
      "\t /page3                ['dalian', 'liferay', 'pictures']\n",
      "\t /page12               ['globalization', 'economy']\n",
      "\t /page12               ['globalization', 'economy']\n",
      "\n",
      "\n",
      "User betty      page views:    10 total,     7 distinct\n",
      "\n",
      "\t /page2                ['liferay', 'china', 'dalian']\n",
      "\t /page11               ['gotcha', 'encryption']\n",
      "\t /page3                ['dalian', 'liferay', 'pictures']\n",
      "\t /page10               ['graveyard', '7.2', 'DXP']\n",
      "\t /page11               ['gotcha', 'encryption']\n",
      "\t /page10               ['graveyard', '7.2', 'DXP']\n",
      "\t /page10               ['graveyard', '7.2', 'DXP']\n",
      "\t /page6                ['dalian']\n",
      "\t /page1                ['liferay', 'bloated', 'literay', 'plugin system', 'features']\n",
      "\t /page8                ['dxp', '7.2', 'alpha']\n",
      "\n",
      "\n",
      "User carol      page views:     1 total,     1 distinct\n",
      "\n",
      "\t /page1                ['liferay', 'bloated', 'literay', 'plugin system', 'features']\n",
      "\n",
      "\n"
     ]
    }
   ],
   "source": [
    "for user in users:\n",
    "    total_pages = len(list(filter(lambda p: p['userid']==user, analyticsEvent)))\n",
    "    \n",
    "    distinct_page_views = len(list(filter(lambda p: p['userid']==user, \\\n",
    "                              filter_unique_page_visits(page_view_stream=analyticsEvent, include_user_filter=True))))\n",
    "    \n",
    "    print (\"User {:10} page views: {:5} total, {:5} distinct\\n\".format(user, total_pages, distinct_page_views))\n",
    "    \n",
    "    for page in list(filter(lambda p: p['userid']==user, analyticsEvent)):\n",
    "        print (\"\\t {:20}  {}\".format(page['url'], page['keywords']))\n",
    "    \n",
    "    print(\"\\n\")"
   ]
  },
  {
   "cell_type": "markdown",
   "metadata": {},
   "source": [
    "#### Distinct keywords"
   ]
  },
  {
   "cell_type": "code",
   "execution_count": 116,
   "metadata": {},
   "outputs": [
    {
     "name": "stdout",
     "output_type": "stream",
     "text": [
      "There 27 distinct keywords, used 36 times\n"
     ]
    }
   ],
   "source": [
    "all_keywords = []\n",
    "\n",
    "for page in website_pages:\n",
    "    all_keywords += page['keywords']\n",
    "\n",
    "all_distict_keywords = set(all_keywords)\n",
    "\n",
    "print(\"There {} distinct keywords, used {} times\".format(len(all_distict_keywords), len(all_keywords)))"
   ]
  },
  {
   "cell_type": "markdown",
   "metadata": {},
   "source": [
    "### Fixed corpus vs dynamic one"
   ]
  },
  {
   "cell_type": "markdown",
   "metadata": {},
   "source": [
    "#### 0. Fixed Corpus\n",
    "The _fixed corpus_ comes from a well known data source that is not the analytics event table. In Liferay terms speaking this could be the `AssetEntry` table for a give n asset type.\n",
    "This source matches 1:1 with the pages available on the target website"
   ]
  },
  {
   "cell_type": "code",
   "execution_count": 117,
   "metadata": {},
   "outputs": [
    {
     "data": {
      "text/plain": [
       "13"
      ]
     },
     "execution_count": 117,
     "metadata": {},
     "output_type": "execute_result"
    }
   ],
   "source": [
    "len(website_pages)"
   ]
  },
  {
   "cell_type": "markdown",
   "metadata": {},
   "source": [
    "---\n",
    "#### 1. Dynamic corpus: RAW\n",
    "\n",
    "This _dynamic corpus_ is extracted from the user activity as found in the analytics event table \n",
    "If we take the raw table content without any filtering over the time window selected, the corpus size is now:"
   ]
  },
  {
   "cell_type": "code",
   "execution_count": 118,
   "metadata": {},
   "outputs": [
    {
     "data": {
      "text/plain": [
       "32"
      ]
     },
     "execution_count": 118,
     "metadata": {},
     "output_type": "execute_result"
    }
   ],
   "source": [
    "len(analyticsEvent)"
   ]
  },
  {
   "cell_type": "markdown",
   "metadata": {},
   "source": [
    "and includes lots of duplicates"
   ]
  },
  {
   "cell_type": "markdown",
   "metadata": {},
   "source": [
    "---\n",
    "\n",
    "#### 2. Dynamic corpus: unique page visits\n",
    "\n",
    "Nevertheless if we filter per _unique_ page views the result is the _dynamic corpus_ does not include all the pages available in the _fixed_ one."
   ]
  },
  {
   "cell_type": "code",
   "execution_count": 119,
   "metadata": {},
   "outputs": [
    {
     "data": {
      "text/plain": [
       "11"
      ]
     },
     "execution_count": 119,
     "metadata": {},
     "output_type": "execute_result"
    }
   ],
   "source": [
    "len(filter_unique_page_visits(page_view_stream=analyticsEvent, include_user_filter=False))"
   ]
  },
  {
   "cell_type": "markdown",
   "metadata": {},
   "source": [
    "---\n",
    "\n",
    "#### 3. Dynamic corpus: unique page visits per (userid, url) paris\n",
    "Again filtering the analyitcs event data for unique page view per user the outcome is again different:"
   ]
  },
  {
   "cell_type": "code",
   "execution_count": 120,
   "metadata": {},
   "outputs": [
    {
     "data": {
      "text/plain": [
       "25"
      ]
     },
     "execution_count": 120,
     "metadata": {},
     "output_type": "execute_result"
    }
   ],
   "source": [
    "len(filter_unique_page_visits(page_view_stream=analyticsEvent, include_user_filter=True))"
   ]
  },
  {
   "cell_type": "markdown",
   "metadata": {},
   "source": [
    "## Tests #1\n",
    "\n",
    "Prepare the user data from the `analyticsEvent` to the format required by the algorithm"
   ]
  },
  {
   "cell_type": "code",
   "execution_count": 121,
   "metadata": {
    "collapsed": true
   },
   "outputs": [],
   "source": [
    "user_to_document_label_list = dict()\n",
    "\n",
    "for user in users:\n",
    "    user_to_document_label_list.update(get_user_activity(userid=user, analytics_events=analyticsEvent))"
   ]
  },
  {
   "cell_type": "markdown",
   "metadata": {},
   "source": [
    "### Test1: Raw user analytics events data, Fixed corpus\n",
    "This test run the algorithm against the raw analytics data for the users and uses a fixed corpus for the IDF computation.\n",
    "* raw analytics events /user: No filters applied. For every user, analytics data, may contain duplicates\n",
    "* fixed corpus: The _corpus_ does NOT comes from the analytics event table. Rather another system (asset engine?) syncronize the assets (pages) available on the target website."
   ]
  },
  {
   "cell_type": "code",
   "execution_count": 122,
   "metadata": {},
   "outputs": [
    {
     "name": "stdout",
     "output_type": "stream",
     "text": [
      "Final Results\n",
      "-------------\n",
      "\n",
      "adam\n",
      "\tliferay              : 3.5296\n",
      "\tglobalization        : 3.5157\n",
      "\teconomy              : 3.5157\n",
      "\tdalian               : 3.1941\n",
      "\tsymposium            : 2.2687\n",
      "\tmobile               : 2.2687\n",
      "\n",
      "\tDistinct scores for user adam: 4 out of 6 keywords\n",
      "\n",
      "alice\n",
      "\tpokemon go           : 2.8702\n",
      "\tinflation            : 2.8702\n",
      "\tdxp                  : 2.5419\n",
      "\tbloated              : 1.9459\n",
      "\tliteray              : 1.9459\n",
      "\tplugin system        : 1.9459\n",
      "\n",
      "\tDistinct scores for user alice: 3 out of 6 keywords\n",
      "\n",
      "betty\n",
      "\t7.2                  : 4.7757\n",
      "\tgraveyard            : 4.6518\n",
      "\tdxp                  : 4.3944\n",
      "\tgotcha               : 3.7741\n",
      "\tencryption           : 3.7741\n",
      "\tliferay              : 3.5818\n",
      "\n",
      "\tDistinct scores for user betty: 5 out of 6 keywords\n",
      "\n",
      "bob\n",
      "\tliferay              : 3.7963\n",
      "\tbloated              : 3.6491\n",
      "\tliteray              : 3.6491\n",
      "\tplugin system        : 3.6491\n",
      "\tfeatures             : 3.6491\n",
      "\talpha                : 3.6491\n",
      "\n",
      "\tDistinct scores for user bob: 2 out of 6 keywords\n",
      "\n",
      "carol\n",
      "\tbloated              : 1.6094\n",
      "\tliteray              : 1.6094\n",
      "\tplugin system        : 1.6094\n",
      "\tfeatures             : 1.6094\n",
      "\tliferay              : 0.9163\n",
      "\n",
      "\tDistinct scores for user carol: 2 out of 5 keywords\n"
     ]
    }
   ],
   "source": [
    "compute_score(user_page_views=user_to_document_label_list, \\\n",
    "              corpus=select_field(website_pages, 'keywords'), \\\n",
    "              display_items_count=6)"
   ]
  },
  {
   "cell_type": "markdown",
   "metadata": {},
   "source": [
    "### Test2: Raw user analytics events data, Dynamic corpus version 1.\n",
    "This test run the algorithm against the raw analytics data for the users and uses a dynamic corpus for the IDF computation.\n",
    "* raw analytics events /user: No filters applied. For every user, analytics data, may contain duplicates\n",
    "* dynamic corpus: The _corpus_ does is defined as in \"1. Dynamic Corpus: RAW\" paragraph"
   ]
  },
  {
   "cell_type": "code",
   "execution_count": 123,
   "metadata": {},
   "outputs": [
    {
     "name": "stdout",
     "output_type": "stream",
     "text": [
      "Final Results\n",
      "-------------\n",
      "\n",
      "adam\n",
      "\tglobalization        : 3.8506\n",
      "\teconomy              : 3.8506\n",
      "\tdalian               : 3.4895\n",
      "\tliferay              : 3.3067\n",
      "\tsymposium            : 2.4849\n",
      "\tmobile               : 2.4849\n",
      "\n",
      "\tDistinct scores for user adam: 4 out of 6 keywords\n",
      "\n",
      "alice\n",
      "\tpokemon go           : 3.4859\n",
      "\tinflation            : 3.4859\n",
      "\tdxp                  : 2.7489\n",
      "\tgraveyard            : 1.8971\n",
      "\tbloated              : 1.6094\n",
      "\tliteray              : 1.6094\n",
      "\n",
      "\tDistinct scores for user alice: 4 out of 6 keywords\n",
      "\n",
      "betty\n",
      "\t7.2                  : 4.9728\n",
      "\tgraveyard            : 4.9460\n",
      "\tgotcha               : 4.3190\n",
      "\tencryption           : 4.3190\n",
      "\tdxp                  : 4.2435\n",
      "\tdalian               : 3.7296\n",
      "\n",
      "\tDistinct scores for user betty: 5 out of 6 keywords\n",
      "\n",
      "bob\n",
      "\talpha                : 3.9322\n",
      "\tdalian               : 3.6119\n",
      "\tliferay              : 3.4700\n",
      "\tbloated              : 3.2189\n",
      "\tliteray              : 3.2189\n",
      "\tplugin system        : 3.2189\n",
      "\n",
      "\tDistinct scores for user bob: 4 out of 6 keywords\n",
      "\n",
      "carol\n",
      "\tbloated              : 1.4469\n",
      "\tliteray              : 1.4469\n",
      "\tplugin system        : 1.4469\n",
      "\tfeatures             : 1.4469\n",
      "\tliferay              : 0.8183\n",
      "\n",
      "\tDistinct scores for user carol: 2 out of 5 keywords\n"
     ]
    }
   ],
   "source": [
    "compute_score(user_page_views=user_to_document_label_list, \\\n",
    "              corpus=select_field(analyticsEvent, 'keywords'), \\\n",
    "              display_items_count=6)"
   ]
  },
  {
   "cell_type": "markdown",
   "metadata": {},
   "source": [
    "### Test3: Raw user analytics events data, Dynamic corpus version 2.\n",
    "This test run the algorithm against the raw analytics data for the users and uses a dynamic corpus for the IDF computation.\n",
    "* raw analytics events /user: No filters applied. For every user, analytics data, may contain duplicates\n",
    "* dynamic corpus: The _corpus_ does is defined as in \"2. Dynamic Corpus: unique page visits\" paragraph"
   ]
  },
  {
   "cell_type": "code",
   "execution_count": 124,
   "metadata": {},
   "outputs": [
    {
     "name": "stdout",
     "output_type": "stream",
     "text": [
      "Final Results\n",
      "-------------\n",
      "\n",
      "adam\n",
      "\tglobalization        : 3.3728\n",
      "\teconomy              : 3.3728\n",
      "\tliferay              : 3.2437\n",
      "\tdalian               : 2.9798\n",
      "\tsymposium            : 2.1972\n",
      "\tmobile               : 2.1972\n",
      "\n",
      "\tDistinct scores for user adam: 4 out of 6 keywords\n",
      "\n",
      "alice\n",
      "\tpokemon go           : 2.6700\n",
      "\tinflation            : 2.6700\n",
      "\tdxp                  : 2.2416\n",
      "\tbloated              : 1.8458\n",
      "\tliteray              : 1.8458\n",
      "\tplugin system        : 1.8458\n",
      "\n",
      "\tDistinct scores for user alice: 3 out of 6 keywords\n",
      "\n",
      "betty\n",
      "\t7.2                  : 4.5256\n",
      "\tgraveyard            : 4.4642\n",
      "\tdxp                  : 4.1444\n",
      "\tgotcha               : 3.6491\n",
      "\tencryption           : 3.6491\n",
      "\tliferay              : 3.3942\n",
      "\n",
      "\tDistinct scores for user betty: 5 out of 6 keywords\n",
      "\n",
      "bob\n",
      "\tliferay              : 3.5296\n",
      "\tbloated              : 3.5157\n",
      "\tliteray              : 3.5157\n",
      "\tplugin system        : 3.5157\n",
      "\tfeatures             : 3.5157\n",
      "\talpha                : 3.5157\n",
      "\n",
      "\tDistinct scores for user bob: 2 out of 6 keywords\n",
      "\n",
      "carol\n",
      "\tbloated              : 1.4663\n",
      "\tliteray              : 1.4663\n",
      "\tplugin system        : 1.4663\n",
      "\tfeatures             : 1.4663\n",
      "\tliferay              : 0.7732\n",
      "\n",
      "\tDistinct scores for user carol: 2 out of 5 keywords\n"
     ]
    }
   ],
   "source": [
    "dynamic_corpus = filter_unique_page_visits(page_view_stream=analyticsEvent, include_user_filter=False)\n",
    "compute_score(user_page_views=user_to_document_label_list, \\\n",
    "              corpus=select_field(dynamic_corpus, 'keywords'), \\\n",
    "              display_items_count=6)"
   ]
  },
  {
   "cell_type": "markdown",
   "metadata": {},
   "source": [
    "### Test3: Raw user analytics events data, Dynamic corpus version 3.\n",
    "This test run the algorithm against the raw analytics data for the users and uses a dynamic corpus for the IDF computation.\n",
    "* raw analytics events /user: No filters applied. For every user, analytics data, may contain duplicates\n",
    "* dynamic corpus: The _corpus_ does is defined as in \"3. Dynamic Corpus: unique page visits per (userid, url) paris\" paragraph"
   ]
  },
  {
   "cell_type": "code",
   "execution_count": 125,
   "metadata": {},
   "outputs": [
    {
     "name": "stdout",
     "output_type": "stream",
     "text": [
      "Final Results\n",
      "-------------\n",
      "\n",
      "adam\n",
      "\tglobalization        : 3.8436\n",
      "\teconomy              : 3.8436\n",
      "\tdalian               : 3.0166\n",
      "\tliferay              : 2.8714\n",
      "\tsymposium            : 2.3273\n",
      "\tmobile               : 2.3273\n",
      "\n",
      "\tDistinct scores for user adam: 4 out of 6 keywords\n",
      "\n",
      "alice\n",
      "\tpokemon go           : 3.4095\n",
      "\tinflation            : 3.4095\n",
      "\tdxp                  : 3.0348\n",
      "\tgraveyard            : 2.1102\n",
      "\t7.2                  : 1.7047\n",
      "\tbloated              : 1.5506\n",
      "\n",
      "\tDistinct scores for user alice: 5 out of 6 keywords\n",
      "\n",
      "betty\n",
      "\t7.2                  : 5.2870\n",
      "\tgraveyard            : 5.1817\n",
      "\tdxp                  : 4.6704\n",
      "\tgotcha               : 4.3944\n",
      "\tencryption           : 4.3944\n",
      "\tdalian               : 3.2958\n",
      "\n",
      "\tDistinct scores for user betty: 5 out of 6 keywords\n",
      "\n",
      "bob\n",
      "\talpha                : 3.9389\n",
      "\t7.2                  : 3.3635\n",
      "\tdalian               : 3.1594\n",
      "\tbloated              : 3.1280\n",
      "\tliteray              : 3.1280\n",
      "\tplugin system        : 3.1280\n",
      "\n",
      "\tDistinct scores for user bob: 4 out of 6 keywords\n",
      "\n",
      "carol\n",
      "\tbloated              : 1.3499\n",
      "\tliteray              : 1.3499\n",
      "\tplugin system        : 1.3499\n",
      "\tfeatures             : 1.3499\n",
      "\tliferay              : 0.6568\n",
      "\n",
      "\tDistinct scores for user carol: 2 out of 5 keywords\n"
     ]
    }
   ],
   "source": [
    "dynamic_corpus = filter_unique_page_visits(page_view_stream=analyticsEvent, include_user_filter=True)\n",
    "compute_score(user_page_views=user_to_document_label_list, \\\n",
    "              corpus=select_field(dynamic_corpus, 'keywords'), \\\n",
    "              display_items_count=6)"
   ]
  },
  {
   "cell_type": "markdown",
   "metadata": {},
   "source": [
    "## Test #2\n",
    "\n",
    "for this round of tests we make sure we filter user data to be unique"
   ]
  },
  {
   "cell_type": "code",
   "execution_count": 126,
   "metadata": {
    "collapsed": true
   },
   "outputs": [],
   "source": [
    "user_to_document_label_filtered_list = dict()\n",
    "\n",
    "unique_userid_page_analytics_event = filter_unique_page_visits(page_view_stream=analyticsEvent, include_user_filter=True)\n",
    "\n",
    "for user in users:\n",
    "    user_to_document_label_filtered_list.update(get_user_activity(userid=user, analytics_events=unique_userid_page_analytics_event))"
   ]
  },
  {
   "cell_type": "code",
   "execution_count": 127,
   "metadata": {
    "scrolled": false
   },
   "outputs": [
    {
     "name": "stdout",
     "output_type": "stream",
     "text": [
      "Final Results\n",
      "-------------\n",
      "\n",
      "adam\n",
      "\tliferay              : 3.2437\n",
      "\tdalian               : 2.9798\n",
      "\tsymposium            : 2.1972\n",
      "\tmobile               : 2.1972\n",
      "\tmobile strategies    : 2.1972\n",
      "\tchristmas            : 2.1972\n",
      "\n",
      "\tDistinct scores for user adam: 3 out of 6 keywords\n",
      "\n",
      "alice\n",
      "\tdxp                  : 1.9971\n",
      "\tpokemon go           : 1.8458\n",
      "\tinflation            : 1.8458\n",
      "\tbloated              : 1.8458\n",
      "\tliteray              : 1.8458\n",
      "\tplugin system        : 1.8458\n",
      "\n",
      "\tDistinct scores for user alice: 2 out of 6 keywords\n",
      "\n",
      "betty\n",
      "\t7.2                  : 3.0082\n",
      "\tliferay              : 2.9798\n",
      "\tdalian               : 2.9798\n",
      "\tdxp                  : 2.6999\n",
      "\tgotcha               : 2.1972\n",
      "\tencryption           : 2.1972\n",
      "\n",
      "\tDistinct scores for user betty: 4 out of 6 keywords\n",
      "\n",
      "bob\n",
      "\tliferay              : 2.9798\n",
      "\tdalian               : 2.9798\n",
      "\tsymposium            : 2.1972\n",
      "\tmobile               : 2.1972\n",
      "\tmobile strategies    : 2.1972\n",
      "\tbloated              : 2.1972\n",
      "\n",
      "\tDistinct scores for user bob: 2 out of 6 keywords\n",
      "\n",
      "carol\n",
      "\tbloated              : 1.6094\n",
      "\tliteray              : 1.6094\n",
      "\tplugin system        : 1.6094\n",
      "\tfeatures             : 1.6094\n",
      "\tliferay              : 0.9163\n",
      "\n",
      "\tDistinct scores for user carol: 2 out of 5 keywords\n",
      "\n",
      "\n",
      "Final Results\n",
      "-------------\n",
      "\n",
      "adam\n",
      "\tdalian               : 3.3618\n",
      "\tliferay              : 3.1365\n",
      "\tsymposium            : 2.4423\n",
      "\tmobile               : 2.4423\n",
      "\tmobile strategies    : 2.4423\n",
      "\tchristmas            : 2.4423\n",
      "\n",
      "\tDistinct scores for user adam: 3 out of 6 keywords\n",
      "\n",
      "alice\n",
      "\tpokemon go           : 2.0281\n",
      "\tinflation            : 2.0281\n",
      "\tdxp                  : 1.9971\n",
      "\tgraveyard            : 1.8458\n",
      "\tbloated              : 1.5581\n",
      "\tliteray              : 1.5581\n",
      "\n",
      "\tDistinct scores for user alice: 4 out of 6 keywords\n",
      "\n",
      "betty\n",
      "\tdalian               : 3.3618\n",
      "\t7.2                  : 2.8615\n",
      "\tliferay              : 2.6526\n",
      "\tgotcha               : 2.4423\n",
      "\tencryption           : 2.4423\n",
      "\tpictures             : 2.4423\n",
      "\n",
      "\tDistinct scores for user betty: 4 out of 6 keywords\n",
      "\n",
      "bob\n",
      "\tdalian               : 3.3618\n",
      "\tliferay              : 2.6526\n",
      "\tsymposium            : 2.4423\n",
      "\tmobile               : 2.4423\n",
      "\tmobile strategies    : 2.4423\n",
      "\tchristmas            : 2.4423\n",
      "\n",
      "\tDistinct scores for user bob: 3 out of 6 keywords\n",
      "\n",
      "carol\n",
      "\tbloated              : 1.4469\n",
      "\tliteray              : 1.4469\n",
      "\tplugin system        : 1.4469\n",
      "\tfeatures             : 1.4469\n",
      "\tliferay              : 0.8183\n",
      "\n",
      "\tDistinct scores for user carol: 2 out of 5 keywords\n",
      "\n",
      "\n",
      "Final Results\n",
      "-------------\n",
      "\n",
      "adam\n",
      "\tliferay              : 2.9359\n",
      "\tdalian               : 2.7489\n",
      "\tsymposium            : 2.1203\n",
      "\tmobile               : 2.1203\n",
      "\tmobile strategies    : 2.1203\n",
      "\tchristmas            : 2.1203\n",
      "\n",
      "\tDistinct scores for user adam: 3 out of 6 keywords\n",
      "\n",
      "alice\n",
      "\tdxp                  : 1.7746\n",
      "\tpokemon go           : 1.7346\n",
      "\tinflation            : 1.7346\n",
      "\tbloated              : 1.7346\n",
      "\tliteray              : 1.7346\n",
      "\tplugin system        : 1.7346\n",
      "\n",
      "\tDistinct scores for user alice: 2 out of 6 keywords\n",
      "\n",
      "betty\n",
      "\t7.2                  : 2.8542\n",
      "\tliferay              : 2.7489\n",
      "\tdalian               : 2.7489\n",
      "\tdxp                  : 2.5459\n",
      "\tchina                : 2.1203\n",
      "\tgotcha               : 2.1203\n",
      "\n",
      "\tDistinct scores for user betty: 4 out of 6 keywords\n",
      "\n",
      "bob\n",
      "\tliferay              : 2.7489\n",
      "\tdalian               : 2.7489\n",
      "\tsymposium            : 2.1203\n",
      "\tmobile               : 2.1203\n",
      "\tmobile strategies    : 2.1203\n",
      "\tbloated              : 2.1203\n",
      "\n",
      "\tDistinct scores for user bob: 2 out of 6 keywords\n",
      "\n",
      "carol\n",
      "\tbloated              : 1.4663\n",
      "\tliteray              : 1.4663\n",
      "\tplugin system        : 1.4663\n",
      "\tfeatures             : 1.4663\n",
      "\tliferay              : 0.7732\n",
      "\n",
      "\tDistinct scores for user carol: 2 out of 5 keywords\n",
      "\n",
      "\n",
      "Final Results\n",
      "-------------\n",
      "\n",
      "adam\n",
      "\tdalian               : 2.8665\n",
      "\tliferay              : 2.6713\n",
      "\tsymposium            : 2.2773\n",
      "\tmobile               : 2.2773\n",
      "\tmobile strategies    : 2.2773\n",
      "\tchristmas            : 2.2773\n",
      "\n",
      "\tDistinct scores for user adam: 3 out of 6 keywords\n",
      "\n",
      "alice\n",
      "\tdxp                  : 2.2628\n",
      "\tpokemon go           : 2.0477\n",
      "\tinflation            : 2.0477\n",
      "\tgraveyard            : 2.0477\n",
      "\t7.2                  : 1.6422\n",
      "\tbloated              : 1.4881\n",
      "\n",
      "\tDistinct scores for user alice: 4 out of 6 keywords\n",
      "\n",
      "betty\n",
      "\t7.2                  : 3.1682\n",
      "\tdalian               : 2.8665\n",
      "\tdxp                  : 2.7220\n",
      "\tgotcha               : 2.5649\n",
      "\tencryption           : 2.5649\n",
      "\tliferay              : 2.3196\n",
      "\n",
      "\tDistinct scores for user betty: 5 out of 6 keywords\n",
      "\n",
      "bob\n",
      "\tdalian               : 2.8665\n",
      "\tliferay              : 2.3196\n",
      "\tsymposium            : 2.2773\n",
      "\tmobile               : 2.2773\n",
      "\tmobile strategies    : 2.2773\n",
      "\talpha                : 2.2773\n",
      "\n",
      "\tDistinct scores for user bob: 3 out of 6 keywords\n",
      "\n",
      "carol\n",
      "\tbloated              : 1.3499\n",
      "\tliteray              : 1.3499\n",
      "\tplugin system        : 1.3499\n",
      "\tfeatures             : 1.3499\n",
      "\tliferay              : 0.6568\n",
      "\n",
      "\tDistinct scores for user carol: 2 out of 5 keywords\n",
      "\n",
      "\n"
     ]
    }
   ],
   "source": [
    "test_corpus_list = [\n",
    "    website_pages,\n",
    "    analyticsEvent,\n",
    "    filter_unique_page_visits(page_view_stream=analyticsEvent, include_user_filter=False),  \n",
    "    filter_unique_page_visits(page_view_stream=analyticsEvent, include_user_filter=True)    \n",
    "]\n",
    "\n",
    "for test_corpus in test_corpus_list:\n",
    "    compute_score(user_page_views=user_to_document_label_filtered_list, \\\n",
    "                  corpus=select_field(test_corpus, 'keywords'), \\\n",
    "                  display_items_count=6)    \n",
    "    print(\"\\n\")"
   ]
  },
  {
   "cell_type": "markdown",
   "metadata": {},
   "source": [
    "### Summary\n",
    "\n",
    "Previous tests show how the different combinations of _corpus_ and filters applied to analytics event data affects the result of a _single_ iteration of the algorithm.\n",
    "\n",
    "In particular, is worth to note:\n",
    "* effects of keyword ordering\n",
    "* scores ranges and deltas\n",
    "* how filtering on user activity (Test #2) affects selected keywords\n",
    "* all the numbers above refers to a _single_ run of the algorithm set with with different initial parameters/inputs\n",
    "\n",
    "**Additional notes:**\n",
    "* Generated user activity is random and might not be the reflect the behavior of a user browsing a website according to his/her interests. "
   ]
  }
 ],
 "metadata": {
  "kernelspec": {
   "display_name": "Python 3",
   "language": "python",
   "name": "python3"
  },
  "language_info": {
   "codemirror_mode": {
    "name": "ipython",
    "version": 3
   },
   "file_extension": ".py",
   "mimetype": "text/x-python",
   "name": "python",
   "nbconvert_exporter": "python",
   "pygments_lexer": "ipython3",
   "version": "3.6.1"
  }
 },
 "nbformat": 4,
 "nbformat_minor": 2
}
